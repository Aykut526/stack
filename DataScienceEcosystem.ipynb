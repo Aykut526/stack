{
 "cells": [
  {
   "cell_type": "markdown",
   "id": "7a721bcd",
   "metadata": {},
   "source": [
    "Data Science Tools and Ecosystem"
   ]
  },
  {
   "cell_type": "markdown",
   "id": "bbb04652",
   "metadata": {},
   "source": [
    "In this notebook, Data Science Tools and Ecosystem are summarized."
   ]
  },
  {
   "cell_type": "markdown",
   "id": "33018bdc",
   "metadata": {},
   "source": [
    "Some of the popular languages that Data Scientists use are:"
   ]
  },
  {
   "cell_type": "markdown",
   "id": "9a4abdb4",
   "metadata": {},
   "source": [
    "Ordered list\n",
    "1. Python\n",
    "2. R\n",
    "3. SQL"
   ]
  },
  {
   "cell_type": "markdown",
   "id": "296d289d",
   "metadata": {},
   "source": [
    "Some of the commonly used libraries used by Data Scientists include:"
   ]
  },
  {
   "cell_type": "markdown",
   "id": "aa4af138",
   "metadata": {},
   "source": [
    "Ordered list\n",
    "1. NumPY\n",
    "2. Keras\n",
    "3. Pandas"
   ]
  },
  {
   "cell_type": "markdown",
   "id": "5eb3680b",
   "metadata": {},
   "source": [
    "Data Science Tools\n",
    "MySQL\n",
    "Kubeflow\n",
    "Pixie Dust"
   ]
  },
  {
   "cell_type": "markdown",
   "id": "78f0e18c",
   "metadata": {},
   "source": [
    "### Below are a few examples of evaluating arithmetic expressions in Python"
   ]
  },
  {
   "cell_type": "code",
   "execution_count": 1,
   "id": "8aacaef8",
   "metadata": {},
   "outputs": [
    {
     "data": {
      "text/plain": [
       "17"
      ]
     },
     "execution_count": 1,
     "metadata": {},
     "output_type": "execute_result"
    }
   ],
   "source": [
    "(3*4)+5"
   ]
  },
  {
   "cell_type": "markdown",
   "id": "a06db252",
   "metadata": {},
   "source": [
    "This a simple arithmetic expression to mutiply then add integers"
   ]
  },
  {
   "cell_type": "code",
   "execution_count": null,
   "id": "abd56ddb",
   "metadata": {},
   "outputs": [],
   "source": [
    "200/60"
   ]
  },
  {
   "cell_type": "markdown",
   "id": "42e77775",
   "metadata": {},
   "source": [
    "This will convert 200 minutes to hours by diving by 60"
   ]
  },
  {
   "cell_type": "markdown",
   "id": "d16e22f9",
   "metadata": {},
   "source": [
    "# Objectives:\n",
    "1. Apache Hadoop\n",
    "2. TensorFlow\n",
    "3. Julia"
   ]
  },
  {
   "cell_type": "markdown",
   "id": "8790cd1c",
   "metadata": {},
   "source": [
    "Unordered list\n",
    "1. Java\n",
    "2. Scala\n",
    "3. C++"
   ]
  },
  {
   "cell_type": "markdown",
   "id": "2c5d6cc2",
   "metadata": {},
   "source": [
    "# Author\n",
    "Aykut Karagul"
   ]
  }
 ],
 "metadata": {
  "kernelspec": {
   "display_name": "Python 3 (ipykernel)",
   "language": "python",
   "name": "python3"
  },
  "language_info": {
   "codemirror_mode": {
    "name": "ipython",
    "version": 3
   },
   "file_extension": ".py",
   "mimetype": "text/x-python",
   "name": "python",
   "nbconvert_exporter": "python",
   "pygments_lexer": "ipython3",
   "version": "3.11.5"
  }
 },
 "nbformat": 4,
 "nbformat_minor": 5
}
